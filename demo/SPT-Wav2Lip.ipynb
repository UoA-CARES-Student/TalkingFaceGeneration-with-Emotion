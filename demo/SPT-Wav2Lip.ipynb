{
  "cells": [
    {
      "cell_type": "code",
      "execution_count": null,
      "metadata": {
        "colab": {
          "base_uri": "https://localhost:8080/",
          "height": 991
        },
        "id": "-i_mF7XcFfUV",
        "outputId": "34874dd9-13a6-4556-8d80-bf5f3892f32a"
      },
      "outputs": [],
      "source": [
        "!pip install --upgrade google-cloud-texttospeech"
      ]
    },
    {
      "cell_type": "code",
      "execution_count": null,
      "metadata": {
        "colab": {
          "base_uri": "https://localhost:8080/"
        },
        "id": "PwDNqiCxU3WE",
        "outputId": "1dd3ad9b-1f50-49d9-dfd6-24cc92cae34e"
      },
      "outputs": [],
      "source": [
        "#@title Start\n",
        "!nvidia-smi\n",
        "!pip install torch"
      ]
    },
    {
      "cell_type": "code",
      "execution_count": null,
      "metadata": {
        "colab": {
          "base_uri": "https://localhost:8080/"
        },
        "id": "LRau2f0RO1Tj",
        "outputId": "c63dc455-ab7b-41f5-c823-d814af252213"
      },
      "outputs": [],
      "source": [
        "#@title Start\n",
        "from google.colab import drive\n",
        "drive.mount('/content/gdrive')"
      ]
    },
    {
      "cell_type": "code",
      "execution_count": null,
      "metadata": {
        "colab": {
          "base_uri": "https://localhost:8080/"
        },
        "id": "uBZ6KL98VAW_",
        "outputId": "8640aea3-782c-42db-cff3-382af25927f5"
      },
      "outputs": [],
      "source": [
        "#@title Clone Wav2Lip github repo\n",
        "!git clone https://github.com/UoA-CARES-Student/TalkingFaceGeneration-with-Emotion.git\n",
        "!cd TalkingFaceGeneration-with-Emotion && git fetch\n",
        "!cd TalkingFaceGeneration-with-Emotion && git checkout transformer"
      ]
    },
    {
      "cell_type": "code",
      "execution_count": null,
      "metadata": {
        "colab": {
          "base_uri": "https://localhost:8080/"
        },
        "id": "n29VOpROOvxv",
        "outputId": "ffc01a88-3378-490d-f7b5-bc1b2eff527f"
      },
      "outputs": [],
      "source": [
        "!wget \"https://www.adrianbulat.com/downloads/python-fan/s3fd-619a316812.pth\" -O \"TalkingFaceGeneration-with-Emotion/TalkingFaceGeneration/face_detection/detection/sfd/s3fd.pth\""
      ]
    },
    {
      "cell_type": "code",
      "execution_count": null,
      "metadata": {
        "colab": {
          "base_uri": "https://localhost:8080/"
        },
        "collapsed": true,
        "id": "3YBV3nM5Bv8e",
        "outputId": "1eb71b33-5789-4b40-98e9-e3e2e9768e92"
      },
      "outputs": [],
      "source": [
        "import os\n",
        "## You would need to setup your Google Application credential to use Google TTS. If you have your own audio file. SKIP THIS.\n",
        "os.environ['GOOGLE_APPLICATION_CREDENTIALS'] = '/content/gdrive/MyDrive/Project 24: Talking face generation system/General_Notes/Collab-Notebook/Alan_API/arched-catwalk-355505-19fee549fd39.json' \n",
        "!echo $GOOGLE_APPLICATION_CREDENTIALS"
      ]
    },
    {
      "cell_type": "code",
      "execution_count": null,
      "metadata": {
        "colab": {
          "base_uri": "https://localhost:8080/",
          "height": 532
        },
        "id": "aXEMBpXknKba",
        "outputId": "d87660e8-3c3f-45f5-e99e-c69223d0b657"
      },
      "outputs": [],
      "source": [
        "from google.cloud import texttospeech\n",
        "\n",
        "# Instantiates a client\n",
        "client = texttospeech.TextToSpeechClient()\n",
        "\n",
        "# Set the text input to be synthesized\n",
        "synthesis_input = texttospeech.SynthesisInput(text=\"This is a demonstration for our talking face synthesis prototype. The weather outside is currently rainy. Hopefully it will be better tomorrow\")\n",
        "\n",
        "# Build the voice request, select the language code (\"en-US\") and the ssml\n",
        "# voice gender (\"neutral\")\n",
        "#voice = texttospeech.VoiceSelectionParams(\n",
        " #   language_code=\"en-US\", ssml_gender=texttospeech.SsmlVoiceGender.MALE\n",
        "#)\n",
        "\n",
        "voice = texttospeech.VoiceSelectionParams(\n",
        "    language_code=\"en-US\", \n",
        "    name='en-US-Wavenet-D'\n",
        ")\n",
        "# Select the type of audio file you want returned\n",
        "audio_config = texttospeech.AudioConfig(\n",
        "    audio_encoding=texttospeech.AudioEncoding.MP3\n",
        ")\n",
        "\n",
        "# Perform the text-to-speech request on the text input with the selected\n",
        "# voice parameters and audio file type\n",
        "response = client.synthesize_speech(\n",
        "    input=synthesis_input, voice=voice, audio_config=audio_config\n",
        ")\n",
        "\n",
        "# The response's audio_content is binary.\n",
        "with open(\"input_audio.wav\", \"wb\") as out:\n",
        "    # Write the response to the output file.\n",
        "    out.write(response.audio_content)\n",
        "    print('Audio content written to file \"input_audio.wav\"')"
      ]
    },
    {
      "cell_type": "code",
      "execution_count": null,
      "metadata": {
        "colab": {
          "base_uri": "https://localhost:8080/"
        },
        "id": "d27PldUY1DCy",
        "outputId": "489575df-ea01-4f82-8c11-3e4e5c75e842"
      },
      "outputs": [],
      "source": [
        "pip install gdown"
      ]
    },
    {
      "cell_type": "code",
      "execution_count": null,
      "metadata": {
        "colab": {
          "base_uri": "https://localhost:8080/"
        },
        "id": "xvUUcNf30j37",
        "outputId": "e5086ad5-fe43-4296-c4d6-9e4fd01f01c5"
      },
      "outputs": [],
      "source": [
        "!gdown \"1OlkrrS-N-WrBAGnyg1fazE16kUU0ih1X\""
      ]
    },
    {
      "cell_type": "code",
      "execution_count": null,
      "metadata": {
        "id": "G_sceNpwMa4r"
      },
      "outputs": [],
      "source": [
        "!mkdir temp\n",
        "!mkdir results"
      ]
    },
    {
      "cell_type": "code",
      "execution_count": null,
      "metadata": {
        "id": "9g5JoJNk1uMh"
      },
      "outputs": [],
      "source": [
        "## Upload your image or speaker and set the path to the file.\n",
        "path_to_speaker = \"content/speaker.jpg\"\n",
        "\n",
        "## Upload your audio (wav) file and set the path to the file.\n",
        "path_to_audio = \"content/audio.wav\""
      ]
    },
    {
      "cell_type": "code",
      "execution_count": null,
      "metadata": {
        "colab": {
          "base_uri": "https://localhost:8080/"
        },
        "id": "ryz7w34vUAOE",
        "outputId": "a1c579e2-6803-4911-9817-a492af3994a3"
      },
      "outputs": [],
      "source": [
        "path_to_weights = \"/content/checkpoint_step001675194.pth\"\n",
        "\n",
        "\n",
        "!python3 TalkingFaceGeneration-with-Emotion/TalkingFaceGeneration/inference.py --checkpoint_path $path_to_weights --face $path_to_speaker --audio $path_to_audio"
      ]
    },
    {
      "cell_type": "code",
      "execution_count": null,
      "metadata": {
        "id": "_BNAvFxZXDWL"
      },
      "outputs": [],
      "source": []
    }
  ],
  "metadata": {
    "accelerator": "GPU",
    "colab": {
      "collapsed_sections": [],
      "provenance": []
    },
    "gpuClass": "standard",
    "kernelspec": {
      "display_name": "Python 3",
      "name": "python3"
    },
    "language_info": {
      "name": "python"
    }
  },
  "nbformat": 4,
  "nbformat_minor": 0
}
