{
  "cells": [
    {
      "cell_type": "code",
      "source": [
        "from google.colab import drive\n",
        "drive.mount('/content/gdrive', force_remount=True)"
      ],
      "metadata": {
        "colab": {
          "base_uri": "https://localhost:8080/"
        },
        "id": "xvgN3QLgDirK",
        "outputId": "4d7af962-a299-4966-9783-5630aee0c566"
      },
      "execution_count": null,
      "outputs": [
        {
          "output_type": "stream",
          "name": "stdout",
          "text": [
            "Mounted at /content/gdrive\n"
          ]
        }
      ]
    },
    {
      "cell_type": "markdown",
      "metadata": {
        "id": "FrUMx4SU-ywL"
      },
      "source": [
        "## Required Packages"
      ]
    },
    {
      "cell_type": "code",
      "execution_count": null,
      "metadata": {
        "id": "ScUrtbul-ywM"
      },
      "outputs": [],
      "source": [
        "import sys, os\n",
        "import math\n",
        "import tensorflow as tf\n",
        "import numpy as np\n",
        "import pandas as pd\n",
        "import cv2\n",
        "import matplotlib as mpl\n",
        "import matplotlib.pyplot as plt\n",
        "import skimage"
      ]
    },
    {
      "cell_type": "markdown",
      "metadata": {
        "id": "3i0N0R0X-ywN"
      },
      "source": [
        "## Version check"
      ]
    },
    {
      "cell_type": "code",
      "execution_count": null,
      "metadata": {
        "id": "i3pfhI8P-ywN"
      },
      "outputs": [],
      "source": [
        "print('Python: {}'.format(sys.version))\n",
        "print('Numpy: {}'.format(np.__version__))\n",
        "print('Pandas: {}'.format(pd.__version__))\n",
        "print('OpenCV: {}'.format(cv2.__version__))\n",
        "print('Tensorflow: {}'.format(tf.__version__))\n",
        "print('Matplotlib: {}'.format(mpl.__version__))\n",
        "print('Scikit-Image: {}'.format(skimage.__version__))"
      ]
    },
    {
      "cell_type": "markdown",
      "source": [
        "### Peak-Signal-to-Noise Ratio (PSNR)"
      ],
      "metadata": {
        "id": "ZBKEpm-wZ7d7"
      }
    },
    {
      "cell_type": "code",
      "execution_count": null,
      "metadata": {
        "id": "vv1ndROM-ywO"
      },
      "outputs": [],
      "source": [
        "def psnr(target, ref):\n",
        "    # Assume target is RGB/BGR image\n",
        "    target_data = target.astype(np.float32)\n",
        "    ref_data = ref.astype(np.float32)\n",
        "\n",
        "    diff = ref_data - target_data\n",
        "    diff = diff.flatten('C')\n",
        "\n",
        "    rmse = np.sqrt(np.mean(diff ** 2.))\n",
        "\n",
        "    return 20 * np.log10(255. / rmse)"
      ]
    },
    {
      "cell_type": "markdown",
      "metadata": {
        "id": "5OhvLWVy-ywP"
      },
      "source": [
        "### Mean Squared Error (MSE)"
      ]
    },
    {
      "cell_type": "code",
      "execution_count": null,
      "metadata": {
        "id": "wa3bRQq1-ywP"
      },
      "outputs": [],
      "source": [
        "def mse(target, ref):\n",
        "    target_data = target.astype(np.float32)\n",
        "    ref_data = ref.astype(np.float32)\n",
        "    err = np.sum((target_data - ref_data) ** 2)\n",
        "\n",
        "    err /= np.float(target_data.shape[0] * target_data.shape[1])\n",
        "    return err"
      ]
    },
    {
      "cell_type": "markdown",
      "metadata": {
        "id": "1EL8Nsgh-ywP"
      },
      "source": [
        "### Strucutural Similarity (SSIM)\n",
        "\n"
      ]
    },
    {
      "cell_type": "code",
      "execution_count": null,
      "metadata": {
        "id": "Dk2eds0o-ywP"
      },
      "outputs": [],
      "source": [
        "from skimage.metrics import structural_similarity as ssim"
      ]
    },
    {
      "cell_type": "markdown",
      "metadata": {
        "id": "x4VxRcY0-ywP"
      },
      "source": [
        "After we defined our metrics for measuring image quality, we need to combine whole metrics in one metric."
      ]
    },
    {
      "cell_type": "code",
      "execution_count": null,
      "metadata": {
        "id": "eCUdoLbN-ywP"
      },
      "outputs": [],
      "source": [
        "def compare_frames(target, ref):\n",
        "    scores = []\n",
        "    scores.append(psnr(target, ref))\n",
        "    scores.append(mse(target, ref))\n",
        "    scores.append(ssim(target, ref, multichannel=True))\n",
        "    return scores"
      ]
    },
    {
      "cell_type": "code",
      "source": [
        "%cd /content/gdrive/MyDrive/p4p/"
      ],
      "metadata": {
        "id": "p-IYCHbwDyOm"
      },
      "execution_count": null,
      "outputs": []
    },
    {
      "cell_type": "markdown",
      "source": [
        "Path to videos"
      ],
      "metadata": {
        "id": "Dszp86uTDMp4"
      }
    },
    {
      "cell_type": "code",
      "source": [
        "video_path = '/content/gdrive/'          # real video path (.mp4)\n",
        "generated_video_path = '/content/gdrive'       # video path that wants to be evaluated (.mp4)"
      ],
      "metadata": {
        "id": "GTwDJjOZBurI"
      },
      "execution_count": null,
      "outputs": []
    },
    {
      "cell_type": "code",
      "source": [
        "# Open original video\n",
        "original_video = cv2.VideoCapture(video_path)\n",
        "\n",
        "# Open resized video\n",
        "generated_video = cv2.VideoCapture(generated_video_path)\n",
        "\n",
        "# Get the number of frames in the video\n",
        "num_frames = int(original_video.get(cv2.CAP_PROP_FRAME_COUNT))\n",
        "\n",
        "psnr_values = []\n",
        "mse_values = []\n",
        "ssim_values = []"
      ],
      "metadata": {
        "id": "2GTbNT-eCj2_"
      },
      "execution_count": null,
      "outputs": []
    },
    {
      "cell_type": "code",
      "source": [
        "# Iterate over each frame\n",
        "for _ in range(num_frames):\n",
        "    # Read frames from the original video\n",
        "    ret_o, frame_o = original_video.read()\n",
        "\n",
        "    # Read frames from the resized video\n",
        "    ret_r, frame_r = generated_video.read()\n",
        "\n",
        "    if not ret_o or not ret_r:\n",
        "        break\n",
        "\n",
        "    # Resize frames to a consistent size\n",
        "    frame_o = cv2.resize(frame_o, (frame_r.shape[1], frame_r.shape[0]))\n",
        "\n",
        "    # Compare frames and calculate scores\n",
        "    scores = compare_frames(frame_o, frame_r)\n",
        "\n",
        "    # Append scores to the lists\n",
        "    psnr_values.append(scores[0])\n",
        "    mse_values.append(scores[1])\n",
        "    ssim_values.append(scores[2])\n",
        "\n",
        "# Calculate average scores\n",
        "avg_psnr = np.mean(psnr_values)\n",
        "avg_mse = np.mean(mse_values)\n",
        "avg_ssim = np.mean(ssim_values)\n",
        "\n",
        "print(\"Average PSNR:\", avg_psnr)\n",
        "print(\"Average MSE:\", avg_mse)\n",
        "print(\"Average SSIM:\", avg_ssim)\n",
        "\n",
        "# Release video captures\n",
        "original_video.release()\n",
        "generated_video.release()"
      ],
      "metadata": {
        "id": "Q3Fl9sapDC68"
      },
      "execution_count": null,
      "outputs": []
    },
    {
      "cell_type": "markdown",
      "source": [
        "### Frechet inception Distance (FID)"
      ],
      "metadata": {
        "id": "xhRFUe4qaiVp"
      }
    },
    {
      "cell_type": "code",
      "source": [
        "!pip install pytorch-fid"
      ],
      "metadata": {
        "id": "wCcxitE8amJK"
      },
      "execution_count": null,
      "outputs": []
    },
    {
      "cell_type": "code",
      "source": [
        "!python -m pytorch_fid /content/gdrive/ /content/gdrive/         # path of real source video and video wants to get evaluated (.mp4)"
      ],
      "metadata": {
        "id": "9LnB4Aj9aox4"
      },
      "execution_count": null,
      "outputs": []
    }
  ],
  "metadata": {
    "kernelspec": {
      "display_name": "Python 3",
      "language": "python",
      "name": "python3"
    },
    "language_info": {
      "codemirror_mode": {
        "name": "ipython",
        "version": 3
      },
      "file_extension": ".py",
      "mimetype": "text/x-python",
      "name": "python",
      "nbconvert_exporter": "python",
      "pygments_lexer": "ipython3",
      "version": "3.7.6"
    },
    "colab": {
      "provenance": []
    }
  },
  "nbformat": 4,
  "nbformat_minor": 0
}