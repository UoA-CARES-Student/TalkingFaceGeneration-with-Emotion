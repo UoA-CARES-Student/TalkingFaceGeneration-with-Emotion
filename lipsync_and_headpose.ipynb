{
  "cells": [
    {
      "cell_type": "markdown",
      "metadata": {
        "id": "qlnPIxTy5PdF"
      },
      "source": [
        "# **Connect to Google Drive**"
      ]
    },
    {
      "cell_type": "code",
      "execution_count": null,
      "metadata": {
        "id": "0kKicDQZFWhp"
      },
      "outputs": [],
      "source": [
        "from google.colab import drive\n",
        "drive.mount('/content/gdrive', force_remount=True)"
      ]
    },
    {
      "cell_type": "markdown",
      "metadata": {},
      "source": [
        "clone github and cd to 2023_lipsync_headpose"
      ]
    },
    {
      "cell_type": "code",
      "execution_count": null,
      "metadata": {},
      "outputs": [],
      "source": [
        "!git clone https://github.com/UoA-CARES-Student/TalkingFaceGeneration-with-Emotion.git\n",
        "!cd TalkingFaceGeneration-with-Emotion && git fetch\n",
        "!cd TalkingFaceGeneration-with-Emotion && git checkout 2023_lipsync_headpose"
      ]
    },
    {
      "cell_type": "markdown",
      "metadata": {
        "id": "HASS_wy0AteA"
      },
      "source": [
        "# **Install python 3.8 and other requirements**"
      ]
    },
    {
      "cell_type": "code",
      "execution_count": null,
      "metadata": {
        "id": "H79qI1VQJ73T"
      },
      "outputs": [],
      "source": [
        "!sudo apt-get update -y\n",
        "!sudo apt-get install python3.8\n",
        "!sudo apt-get install python3.9\n",
        "from IPython.display import clear_output\n",
        "clear_output()\n",
        "!sudo update-alternatives --install /usr/local/bin/python3 python3 /usr/bin/python3.8 2\n",
        "!sudo update-alternatives --install /usr/local/bin/python3 python3 /usr/bin/python3.9 1"
      ]
    },
    {
      "cell_type": "code",
      "execution_count": null,
      "metadata": {
        "id": "Zp5b-MWmdrly"
      },
      "outputs": [],
      "source": [
        "!sudo apt-get install python3-distutils"
      ]
    },
    {
      "cell_type": "code",
      "execution_count": null,
      "metadata": {
        "id": "WdLFCL2-eF_7"
      },
      "outputs": [],
      "source": [
        "!sudo apt-get install --reinstall python3.8-distutils"
      ]
    },
    {
      "cell_type": "code",
      "execution_count": null,
      "metadata": {
        "id": "Mdq6j4E5KQAR"
      },
      "outputs": [],
      "source": [
        "!update-alternatives --install /usr/local/bin/python3 python3 /usr/bin/python3.8 2\n",
        "!update-alternatives --install /usr/local/bin/python3 python3 /usr/bin/python3.9 1\n",
        "!python --version\n",
        "!apt-get update\n",
        "!apt install software-properties-common\n",
        "!sudo dpkg --remove --force-remove-reinstreq python3-pip python3-setuptools python3-wheel\n",
        "!apt-get install python3-pip\n",
        "\n",
        "%cd ./lip_synchronisation   # to where you saved the lip synchronisation file downloaded from github\n",
        "!export PYTHONPATH=/content/lip_synchronisation:$PYTHONPATH\n",
        "!python3.8 -m pip install torch==1.12.1+cu113 torchvision==0.13.1+cu113 torchaudio==0.12.1 --extra-index-url https://download.pytorch.org/whl/cu113\n",
        "!apt update\n",
        "!apt install ffmpeg &> /dev/null\n",
        "!python3.8 -m pip install -r requirements.txt"
      ]
    },
    {
      "cell_type": "code",
      "execution_count": null,
      "metadata": {
        "id": "XN-5W-ZJKOqw"
      },
      "outputs": [],
      "source": [
        "!python3.8 -m pip install pillow==9.5.0"
      ]
    },
    {
      "cell_type": "code",
      "execution_count": null,
      "metadata": {
        "id": "9CeK0la0Hc28"
      },
      "outputs": [],
      "source": [
        "!python3.8 -m pip install ninja\n",
        "!sudo apt-get install ninja-build\n",
        "!sudo apt-get install python3.8-dev"
      ]
    },
    {
      "cell_type": "code",
      "execution_count": null,
      "metadata": {
        "id": "Oi5MxHPTHe8C"
      },
      "outputs": [],
      "source": [
        "!python3.8 -m pip install paddlepaddle-gpu==2.3.2.post112 \\\n",
        "-f https://www.paddlepaddle.org.cn/whl/linux/mkl/avx/stable.html"
      ]
    },
    {
      "cell_type": "markdown",
      "metadata": {
        "id": "DddcKB_nKsnk"
      },
      "source": [
        "# **Download checkpoints**"
      ]
    },
    {
      "cell_type": "code",
      "execution_count": null,
      "metadata": {
        "id": "zPwi3_GM1Xg_"
      },
      "outputs": [],
      "source": [
        "%cd ./lip_synchronisation/checkpoints/"
      ]
    },
    {
      "cell_type": "markdown",
      "metadata": {
        "id": "UkjVuOuj86wy"
      },
      "source": [
        "download checkpoint"
      ]
    },
    {
      "cell_type": "code",
      "execution_count": null,
      "metadata": {
        "id": "m3bowBWF36yx"
      },
      "outputs": [],
      "source": [
        "!gdown https://drive.google.com/u/1/uc?id=1lW4mf5YNtS4MAD7ZkAauDDWp2N3_Qzs7&export=download\n",
        "print(\"done\")"
      ]
    },
    {
      "cell_type": "markdown",
      "metadata": {
        "id": "v1WEqq0284_F"
      },
      "source": [
        "unzip checkpoint"
      ]
    },
    {
      "cell_type": "code",
      "execution_count": null,
      "metadata": {
        "id": "FlfJt-Ft4C6j"
      },
      "outputs": [],
      "source": [
        "!tar zxvf checkpoints.tar.gz\n",
        "print(\"done!\")"
      ]
    },
    {
      "cell_type": "code",
      "execution_count": null,
      "metadata": {
        "id": "MpbqM7v1fqnC"
      },
      "outputs": [],
      "source": [
        "%cd ./lip_synchronisation/"
      ]
    },
    {
      "cell_type": "markdown",
      "metadata": {
        "id": "-khNZcnGK4UK"
      },
      "source": [
        "# **Run Lip synchronisation**"
      ]
    },
    {
      "cell_type": "code",
      "execution_count": null,
      "metadata": {
        "id": "ToBlDusjK5sS"
      },
      "outputs": [],
      "source": [
        "from numpy import full\n",
        "!python3.8 inference.py --driven_audio ./lip_synchronisation/audio.wav \\        # input audio path\n",
        "                    --source_video ./lip_synchronisation/video.avi \\         # input video path\n",
        "                    --enhancer lip    #(默认lip)\n",
        "                    # --use_DAIN \\ #(使用该功能会占用较大显存和消耗较多时间)\n",
        "             \t\t    # --time_step 0.5 #(插帧频率，默认0.5，即25fps—>50fps;0.25,即25fps—>100fps)"
      ]
    },
    {
      "cell_type": "markdown",
      "metadata": {
        "id": "oa0P_JMERpnh"
      },
      "source": [
        "# **Run head pose implementation**"
      ]
    },
    {
      "cell_type": "code",
      "execution_count": null,
      "metadata": {
        "id": "q_32fE9UXG-S"
      },
      "outputs": [],
      "source": [
        "%cd ./head_pose"
      ]
    },
    {
      "cell_type": "markdown",
      "metadata": {
        "id": "WNg37RP29HnU"
      },
      "source": [
        "make checkpoints folder"
      ]
    },
    {
      "cell_type": "code",
      "execution_count": null,
      "metadata": {
        "id": "HrYSZo28WxRK"
      },
      "outputs": [],
      "source": [
        "!mkdir checkpoints\n",
        "%cd ./head_pose/checkpoints"
      ]
    },
    {
      "cell_type": "markdown",
      "metadata": {
        "id": "XGs50D0y9Ka2"
      },
      "source": [
        "download checkpoint"
      ]
    },
    {
      "cell_type": "code",
      "execution_count": null,
      "metadata": {
        "id": "Rw5btBqVXE-f"
      },
      "outputs": [],
      "source": [
        "!gdown https://drive.google.com/u/1/uc?id=18Bi06ewhcx-1owlJF3F_J3INlXkQ3oX2&export=download\n",
        "print(\"done\")"
      ]
    },
    {
      "cell_type": "code",
      "execution_count": null,
      "metadata": {
        "id": "Ag75Cto8Pl3C"
      },
      "outputs": [],
      "source": [
        "%cd ./head_pose"
      ]
    },
    {
      "cell_type": "code",
      "execution_count": null,
      "metadata": {
        "id": "jBqTZYtyPn8I"
      },
      "outputs": [],
      "source": [
        "!python3.8 run_demo.py --s_path ./data/video.mp4 \\    # input video path\n",
        " \t\t--d_path ./data/d.mp4 \\                           # head pose source video path\n",
        "\t\t--model_path ./checkpoints/dpe.pt \\               # checkpoint path\n",
        "\t\t--face pose \\\n",
        "\t\t--output_folder ./res/output                   # output path"
      ]
    },
    {
      "cell_type": "code",
      "execution_count": null,
      "metadata": {
        "id": "jNSopHxU6YTz"
      },
      "outputs": [],
      "source": [
        "!pip install ffmpeg-python"
      ]
    },
    {
      "cell_type": "code",
      "execution_count": null,
      "metadata": {
        "id": "FSsi7Rg06NGM"
      },
      "outputs": [],
      "source": [
        "#@title Generate audio video\n",
        "import ffmpeg\n",
        "audio = ffmpeg.input(f'./audio.wav')    # audio path\n",
        "video = ffmpeg.input(f'./video.mp4')                     # video path\n",
        "print(\"Generating\")\n",
        "out = ffmpeg.output(video, audio, f'./output')         # output video path\n",
        "out.run()"
      ]
    }
  ],
  "metadata": {
    "accelerator": "GPU",
    "colab": {
      "provenance": []
    },
    "kernelspec": {
      "display_name": "Python 3",
      "name": "python3"
    },
    "language_info": {
      "name": "python",
      "version": "3.9.7"
    },
    "vscode": {
      "interpreter": {
        "hash": "db5031b3636a3f037ea48eb287fd3d023feb9033aefc2a9652a92e470fb0851b"
      }
    }
  },
  "nbformat": 4,
  "nbformat_minor": 0
}
